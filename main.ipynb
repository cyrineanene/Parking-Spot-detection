{
 "cells": [
  {
   "cell_type": "markdown",
   "metadata": {},
   "source": [
    "This notebook contains the code to write for each step of the project. "
   ]
  },
  {
   "cell_type": "code",
   "execution_count": 7,
   "metadata": {},
   "outputs": [
    {
     "ename": "",
     "evalue": "",
     "output_type": "error",
     "traceback": [
      "\u001b[1;31mThe Kernel crashed while executing code in the current cell or a previous cell. \n",
      "\u001b[1;31mPlease review the code in the cell(s) to identify a possible cause of the failure. \n",
      "\u001b[1;31mClick <a href='https://aka.ms/vscodeJupyterKernelCrash'>here</a> for more info. \n",
      "\u001b[1;31mView Jupyter <a href='command:jupyter.viewOutput'>log</a> for further details."
     ]
    }
   ],
   "source": [
    "#Visualizing the video\n",
    "import cv2\n",
    "video_path = 'data\\data_v\\parking_crop_loop.mp4'\n",
    "cap = cv2.VideoCapture(video_path)\n",
    "\n",
    "if not cap.isOpened():\n",
    "    print(\"Error: Could not open video source.\")\n",
    "    exit()\n",
    "\n",
    "ret=True\n",
    "while ret:\n",
    "    ret, frame= cap.read()\n",
    "    \n",
    "    if not ret:\n",
    "        print(\"Error: Could not read frame.\")\n",
    "        break\n",
    "    \n",
    "    cv2.imshow('Video Frame', frame)\n",
    "    if cv2.waitKey(25) & 0xFF == ord('q'):\n",
    "        break\n",
    "\n",
    "cap.release()\n",
    "cv2.destroyAllWindows()"
   ]
  },
  {
   "cell_type": "code",
   "execution_count": null,
   "metadata": {},
   "outputs": [],
   "source": [
    "#load the mask \n",
    "import cv2\n",
    "mask = 'mask\\mask_crop.png'\n",
    "mask = cv2.imread(mask, 0)"
   ]
  },
  {
   "cell_type": "code",
   "execution_count": null,
   "metadata": {},
   "outputs": [
    {
     "name": "stdout",
     "output_type": "stream",
     "text": [
      "[70, 0, 131, 56]\n"
     ]
    }
   ],
   "source": [
    "#detect the parking spots and create the bounding boxes using the mask\n",
    "from utils import get_parking_spots_boxes\n",
    "connected_componets = cv2.connectedComponentsWithStats(mask, 4, cv2.CV_32S)\n",
    "parking_spots = get_parking_spots_boxes(connected_componets)\n",
    "print(parking_spots[0]) #getting the value of the coordonnées of the first parking spot"
   ]
  },
  {
   "cell_type": "code",
   "execution_count": null,
   "metadata": {},
   "outputs": [],
   "source": [
    "#adding to the video the bounding boxes in Blue\n",
    "for spot_idx, spot in enumerate(parking_spots):\n",
    "        x1,y1, w, h = spot\n",
    "        frame = cv2.rectangle(frame, (x1,y1), (x1+w,y1+h), (255,0,0))"
   ]
  },
  {
   "cell_type": "code",
   "execution_count": null,
   "metadata": {},
   "outputs": [],
   "source": [
    "#classifying each blue bounding box to know if it is available or not \n",
    "#Red => Not available, Green => Available\n",
    "from utils import empty_or_not\n",
    "spot_crop = frame[y1:y1+h, x1:x1+w]\n",
    "spot_status = empty_or_not(spot_crop)\n",
    "if spot_status:\n",
    "    frame = cv2.rectangle(frame, (x1,y1), (x1+w,y1+h), (0,255,0),2)\n",
    "else:\n",
    "    frame = cv2.rectangle(frame, (x1,y1), (x1+w,y1+h), (0,0,255),2)"
   ]
  },
  {
   "cell_type": "code",
   "execution_count": null,
   "metadata": {},
   "outputs": [],
   "source": [
    "#Optimizing to make it quicker => using logic of when parking a car\n",
    "#=> Classifying every 30 frames\n",
    "\n",
    "spots_status = [None for j in parking_spots]\n",
    "step = 30\n",
    "spots_status[spot_idx] = spot_status\n",
    "#adding an if statement to update the spot_status every 30 frames\n",
    "#if frame_number % step == 0:"
   ]
  },
  {
   "cell_type": "code",
   "execution_count": null,
   "metadata": {},
   "outputs": [],
   "source": [
    "#to improve more the performance: considering the work on only the changing parking spots not all of them\n",
    "#defining the calc_diff function\n",
    "import numpy as np\n",
    "\n",
    "def calc_diff(img1, img2):\n",
    "    return np.abs(np.mean(img1) - np.mean(img2))\n",
    "\n",
    "frame_number = 0\n",
    "diffs = [None for j in parking_spots]\n",
    "previous_frame = None\n",
    "if frame_number % step == 0:\n",
    "        previous_frame = frame.copy()\n",
    "\n",
    "#adding this part \n",
    "if frame_number % step == 0: \n",
    "        for spot_idx, spot in enumerate(parking_spots):\n",
    "            x1,y1, w, h = spot\n",
    "            spot_crop = frame[y1:y1+h, x1:x1+w]\n",
    "            diffs[spot_idx] = calc_diff(spot_crop, previous_frame[y1:y1+h, x1:x1+w])"
   ]
  },
  {
   "cell_type": "code",
   "execution_count": null,
   "metadata": {},
   "outputs": [],
   "source": [
    "#By adding this code, it is now giving the best performance and a real time detetction\n",
    "if previous_frame is None:\n",
    "    arr = range(len(parking_spots))\n",
    "else:\n",
    "    arr = [j for j in np.argsort(diffs) if diffs[j] / np.amax(diffs) > 0.4]\n",
    "#and modifying the loop"
   ]
  },
  {
   "cell_type": "code",
   "execution_count": null,
   "metadata": {},
   "outputs": [],
   "source": [
    "#adding the counter on the video\n",
    "cv2.rectangle(frame, (80,20), (550,80), (0,0,0), -1)\n",
    "cv2.putText(frame, 'Available Spots:{} / {}'.format(str(sum(spots_status)), str(len(parking_spots))), (100,60), cv2.FONT_HERSHEY_SIMPLEX, 1, (255, 255, 255), 2)"
   ]
  }
 ],
 "metadata": {
  "kernelspec": {
   "display_name": ".venv",
   "language": "python",
   "name": "python3"
  },
  "language_info": {
   "codemirror_mode": {
    "name": "ipython",
    "version": 3
   },
   "file_extension": ".py",
   "mimetype": "text/x-python",
   "name": "python",
   "nbconvert_exporter": "python",
   "pygments_lexer": "ipython3",
   "version": "3.11.9"
  }
 },
 "nbformat": 4,
 "nbformat_minor": 2
}
